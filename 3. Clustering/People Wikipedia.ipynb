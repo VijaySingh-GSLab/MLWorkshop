{
 "cells": [
  {
   "cell_type": "code",
   "execution_count": 1,
   "metadata": {},
   "outputs": [],
   "source": [
    "import pandas as pd"
   ]
  },
  {
   "cell_type": "markdown",
   "metadata": {},
   "source": [
    "# load data"
   ]
  },
  {
   "cell_type": "code",
   "execution_count": 2,
   "metadata": {},
   "outputs": [],
   "source": [
    "people = pd.read_csv('people_wiki.csv')"
   ]
  },
  {
   "cell_type": "markdown",
   "metadata": {},
   "source": [
    "# explore the data"
   ]
  },
  {
   "cell_type": "code",
   "execution_count": 3,
   "metadata": {},
   "outputs": [
    {
     "data": {
      "text/html": [
       "<div>\n",
       "<style scoped>\n",
       "    .dataframe tbody tr th:only-of-type {\n",
       "        vertical-align: middle;\n",
       "    }\n",
       "\n",
       "    .dataframe tbody tr th {\n",
       "        vertical-align: top;\n",
       "    }\n",
       "\n",
       "    .dataframe thead th {\n",
       "        text-align: right;\n",
       "    }\n",
       "</style>\n",
       "<table border=\"1\" class=\"dataframe\">\n",
       "  <thead>\n",
       "    <tr style=\"text-align: right;\">\n",
       "      <th></th>\n",
       "      <th>URI</th>\n",
       "      <th>name</th>\n",
       "      <th>text</th>\n",
       "    </tr>\n",
       "  </thead>\n",
       "  <tbody>\n",
       "    <tr>\n",
       "      <th>0</th>\n",
       "      <td>&lt;http://dbpedia.org/resource/Digby_Morrell&gt;</td>\n",
       "      <td>Digby Morrell</td>\n",
       "      <td>digby morrell born 10 october 1979 is a former...</td>\n",
       "    </tr>\n",
       "    <tr>\n",
       "      <th>1</th>\n",
       "      <td>&lt;http://dbpedia.org/resource/Alfred_J._Lewy&gt;</td>\n",
       "      <td>Alfred J. Lewy</td>\n",
       "      <td>alfred j lewy aka sandy lewy graduated from un...</td>\n",
       "    </tr>\n",
       "    <tr>\n",
       "      <th>2</th>\n",
       "      <td>&lt;http://dbpedia.org/resource/Harpdog_Brown&gt;</td>\n",
       "      <td>Harpdog Brown</td>\n",
       "      <td>harpdog brown is a singer and harmonica player...</td>\n",
       "    </tr>\n",
       "    <tr>\n",
       "      <th>3</th>\n",
       "      <td>&lt;http://dbpedia.org/resource/Franz_Rottensteiner&gt;</td>\n",
       "      <td>Franz Rottensteiner</td>\n",
       "      <td>franz rottensteiner born in waidmannsfeld lowe...</td>\n",
       "    </tr>\n",
       "    <tr>\n",
       "      <th>4</th>\n",
       "      <td>&lt;http://dbpedia.org/resource/G-Enka&gt;</td>\n",
       "      <td>G-Enka</td>\n",
       "      <td>henry krvits born 30 december 1974 in tallinn ...</td>\n",
       "    </tr>\n",
       "  </tbody>\n",
       "</table>\n",
       "</div>"
      ],
      "text/plain": [
       "                                                 URI                 name  \\\n",
       "0        <http://dbpedia.org/resource/Digby_Morrell>        Digby Morrell   \n",
       "1       <http://dbpedia.org/resource/Alfred_J._Lewy>       Alfred J. Lewy   \n",
       "2        <http://dbpedia.org/resource/Harpdog_Brown>        Harpdog Brown   \n",
       "3  <http://dbpedia.org/resource/Franz_Rottensteiner>  Franz Rottensteiner   \n",
       "4               <http://dbpedia.org/resource/G-Enka>               G-Enka   \n",
       "\n",
       "                                                text  \n",
       "0  digby morrell born 10 october 1979 is a former...  \n",
       "1  alfred j lewy aka sandy lewy graduated from un...  \n",
       "2  harpdog brown is a singer and harmonica player...  \n",
       "3  franz rottensteiner born in waidmannsfeld lowe...  \n",
       "4  henry krvits born 30 december 1974 in tallinn ...  "
      ]
     },
     "execution_count": 3,
     "metadata": {},
     "output_type": "execute_result"
    }
   ],
   "source": [
    "people.head()"
   ]
  },
  {
   "cell_type": "markdown",
   "metadata": {},
   "source": [
    "## explore the entry for ex president obama"
   ]
  },
  {
   "cell_type": "code",
   "execution_count": 4,
   "metadata": {},
   "outputs": [],
   "source": [
    "obama = people[people['name'] == 'Barack Obama']"
   ]
  },
  {
   "cell_type": "code",
   "execution_count": 5,
   "metadata": {},
   "outputs": [
    {
     "data": {
      "text/html": [
       "<div>\n",
       "<style scoped>\n",
       "    .dataframe tbody tr th:only-of-type {\n",
       "        vertical-align: middle;\n",
       "    }\n",
       "\n",
       "    .dataframe tbody tr th {\n",
       "        vertical-align: top;\n",
       "    }\n",
       "\n",
       "    .dataframe thead th {\n",
       "        text-align: right;\n",
       "    }\n",
       "</style>\n",
       "<table border=\"1\" class=\"dataframe\">\n",
       "  <thead>\n",
       "    <tr style=\"text-align: right;\">\n",
       "      <th></th>\n",
       "      <th>URI</th>\n",
       "      <th>name</th>\n",
       "      <th>text</th>\n",
       "    </tr>\n",
       "  </thead>\n",
       "  <tbody>\n",
       "    <tr>\n",
       "      <th>35811</th>\n",
       "      <td>&lt;http://dbpedia.org/resource/Barack_Obama&gt;</td>\n",
       "      <td>Barack Obama</td>\n",
       "      <td>barack hussein obama ii brk husen bm born augu...</td>\n",
       "    </tr>\n",
       "  </tbody>\n",
       "</table>\n",
       "</div>"
      ],
      "text/plain": [
       "                                              URI          name  \\\n",
       "35811  <http://dbpedia.org/resource/Barack_Obama>  Barack Obama   \n",
       "\n",
       "                                                    text  \n",
       "35811  barack hussein obama ii brk husen bm born augu...  "
      ]
     },
     "execution_count": 5,
     "metadata": {},
     "output_type": "execute_result"
    }
   ],
   "source": [
    "obama"
   ]
  },
  {
   "cell_type": "code",
   "execution_count": 6,
   "metadata": {},
   "outputs": [
    {
     "data": {
      "text/plain": [
       "35811    barack hussein obama ii brk husen bm born august 4 1961 is the 44th and current president of the united states and the first african american to hold the office born in honolulu hawaii obama is a graduate of columbia university and harvard law school where he served as president of the harvard law review he was a community organizer in chicago before earning his law degree he worked as a civil rights attorney and taught constitutional law at the university of chicago law school from 1992 to 2004 he served three terms representing the 13th district in the illinois senate from 1997 to 2004 running unsuccessfully for the united states house of representatives in 2000in 2004 obama received national attention during his campaign to represent illinois in the united states senate with his victory in the march democratic party primary his keynote address at the democratic national convention in july and his election to the senate in november he began his presidential campaign in 2007 and after a close primary campaign against hillary rodham clinton in 2008 he won sufficient delegates in the democratic party primaries to receive the presidential nomination he then defeated republican nominee john mccain in the general election and was inaugurated as president on january 20 2009 nine months after his election obama was named the 2009 nobel peace prize laureateduring his first two years in office obama signed into law economic stimulus legislation in response to the great recession in the form of the american recovery and reinvestment act of 2009 and the tax relief unemployment insurance reauthorization and job creation act of 2010 other major domestic initiatives in his first term included the patient protection and affordable care act often referred to as obamacare the doddfrank wall street reform and consumer protection act and the dont ask dont tell repeal act of 2010 in foreign policy obama ended us military involvement in the iraq war increased us troop levels in afghanistan signed the new start arms control treaty with russia ordered us military involvement in libya and ordered the military operation that resulted in the death of osama bin laden in january 2011 the republicans regained control of the house of representatives as the democratic party lost a total of 63 seats and after a lengthy debate over federal spending and whether or not to raise the nations debt limit obama signed the budget control act of 2011 and the american taxpayer relief act of 2012obama was reelected president in november 2012 defeating republican nominee mitt romney and was sworn in for a second term on january 20 2013 during his second term obama has promoted domestic policies related to gun control in response to the sandy hook elementary school shooting and has called for full equality for lgbt americans while his administration has filed briefs which urged the supreme court to strike down the defense of marriage act of 1996 and californias proposition 8 as unconstitutional in foreign policy obama ordered us military involvement in iraq in response to gains made by the islamic state in iraq after the 2011 withdrawal from iraq continued the process of ending us combat operations in afghanistan and has sought to normalize us relations with cuba\n",
       "Name: text, dtype: object"
      ]
     },
     "execution_count": 6,
     "metadata": {},
     "output_type": "execute_result"
    }
   ],
   "source": [
    "pd.options.display.max_colwidth = 5000\n",
    "obama['text']"
   ]
  },
  {
   "cell_type": "markdown",
   "metadata": {},
   "source": [
    "## explore entry for actor George Clooney"
   ]
  },
  {
   "cell_type": "code",
   "execution_count": 7,
   "metadata": {},
   "outputs": [],
   "source": [
    "clooney = people[people['name'] == 'George Clooney']"
   ]
  },
  {
   "cell_type": "code",
   "execution_count": 8,
   "metadata": {},
   "outputs": [
    {
     "data": {
      "text/html": [
       "<div>\n",
       "<style scoped>\n",
       "    .dataframe tbody tr th:only-of-type {\n",
       "        vertical-align: middle;\n",
       "    }\n",
       "\n",
       "    .dataframe tbody tr th {\n",
       "        vertical-align: top;\n",
       "    }\n",
       "\n",
       "    .dataframe thead th {\n",
       "        text-align: right;\n",
       "    }\n",
       "</style>\n",
       "<table border=\"1\" class=\"dataframe\">\n",
       "  <thead>\n",
       "    <tr style=\"text-align: right;\">\n",
       "      <th></th>\n",
       "      <th>URI</th>\n",
       "      <th>name</th>\n",
       "      <th>text</th>\n",
       "    </tr>\n",
       "  </thead>\n",
       "  <tbody>\n",
       "    <tr>\n",
       "      <th>38508</th>\n",
       "      <td>&lt;http://dbpedia.org/resource/George_Clooney&gt;</td>\n",
       "      <td>George Clooney</td>\n",
       "      <td>george timothy clooney born may 6 1961 is an american actor writer producer director and activist he has received three golden globe awards for his work as an actor and two academy awards one for acting and the other for producingclooney made his acting debut on television in 1978 and later gained wide recognition in his role as dr doug ross on the longrunning medical drama er from 1994 to 1999 for which he received two emmy award nominations while working on er he began attracting a variety of leading roles in films including the superhero film batman robin 1997 and the crime comedy out of sight 1998 in which he first worked with a director who would become a longtime collaborator steven soderbergh in 1999 clooney took the lead role in three kings a wellreceived war satire set during the gulf warin 2001 clooneys fame widened with the release of his biggest commercial success the heist comedy oceans eleven the first of the film trilogy a remake of the 1960 film with frank sinatra as danny ocean he made his directorial debut a year later with the biographical thriller confessions of a dangerous mind and has since directed the drama good night and good luck 2005 the sports comedy leatherheads 2008 the political drama the ides of march 2011 and the comedydrama war film the monuments men 2014he won an academy award for best supporting actor for the middle east thriller syriana 2005 and subsequently earned best actor nominations for the legal thriller michael clayton 2007 the comedydrama up in the air 2009 and the drama the descendants 2011 in 2013 he received the academy award for best picture for producing the political thriller argo alongside ben affleck and grant heslov he is the only person ever to be nominated for academy awards in six categoriesclooney is sometimes described as one of the most handsome men in the world in 2005 tv guide ranked clooney no 1 on its 50 sexiest stars of all time list in 2009 he was included in times annual time 100 as one of the most influential people in the world clooney is also noted for his political activism and has served as one of the united nations messengers of peace since january 31 2008 his humanitarian work includes his advocacy of finding a resolution for the darfur conflict raising funds for the 2010 haiti earthquake 2004 tsunami and 911 victims and creating documentaries such as sand and sorrow to raise awareness about international crises he is also a member of the council on foreign relations</td>\n",
       "    </tr>\n",
       "  </tbody>\n",
       "</table>\n",
       "</div>"
      ],
      "text/plain": [
       "                                                URI            name  \\\n",
       "38508  <http://dbpedia.org/resource/George_Clooney>  George Clooney   \n",
       "\n",
       "                                                                                                                                                                                                                                                                                                                                                                                                                                                                                                                                                                                                                                                                                                                                                                                                                                                                                                                                                                                                                                                                                                                                                                                                                                                                                                                                                                                                                                                                                                                                                                                                                                                                                                                                                                                                                                                                                                                                                                                                                                                                                                                                                                                                                                                                                                                                                                                                                                                                                                                                                                                      text  \n",
       "38508  george timothy clooney born may 6 1961 is an american actor writer producer director and activist he has received three golden globe awards for his work as an actor and two academy awards one for acting and the other for producingclooney made his acting debut on television in 1978 and later gained wide recognition in his role as dr doug ross on the longrunning medical drama er from 1994 to 1999 for which he received two emmy award nominations while working on er he began attracting a variety of leading roles in films including the superhero film batman robin 1997 and the crime comedy out of sight 1998 in which he first worked with a director who would become a longtime collaborator steven soderbergh in 1999 clooney took the lead role in three kings a wellreceived war satire set during the gulf warin 2001 clooneys fame widened with the release of his biggest commercial success the heist comedy oceans eleven the first of the film trilogy a remake of the 1960 film with frank sinatra as danny ocean he made his directorial debut a year later with the biographical thriller confessions of a dangerous mind and has since directed the drama good night and good luck 2005 the sports comedy leatherheads 2008 the political drama the ides of march 2011 and the comedydrama war film the monuments men 2014he won an academy award for best supporting actor for the middle east thriller syriana 2005 and subsequently earned best actor nominations for the legal thriller michael clayton 2007 the comedydrama up in the air 2009 and the drama the descendants 2011 in 2013 he received the academy award for best picture for producing the political thriller argo alongside ben affleck and grant heslov he is the only person ever to be nominated for academy awards in six categoriesclooney is sometimes described as one of the most handsome men in the world in 2005 tv guide ranked clooney no 1 on its 50 sexiest stars of all time list in 2009 he was included in times annual time 100 as one of the most influential people in the world clooney is also noted for his political activism and has served as one of the united nations messengers of peace since january 31 2008 his humanitarian work includes his advocacy of finding a resolution for the darfur conflict raising funds for the 2010 haiti earthquake 2004 tsunami and 911 victims and creating documentaries such as sand and sorrow to raise awareness about international crises he is also a member of the council on foreign relations  "
      ]
     },
     "execution_count": 8,
     "metadata": {},
     "output_type": "execute_result"
    }
   ],
   "source": [
    "clooney"
   ]
  },
  {
   "cell_type": "markdown",
   "metadata": {},
   "source": [
    "# build nearest neighbor model using tfidf"
   ]
  },
  {
   "cell_type": "code",
   "execution_count": 10,
   "metadata": {},
   "outputs": [],
   "source": [
    "from sklearn.feature_extraction.text import CountVectorizer\n",
    "count_vectorizer = CountVectorizer()\n",
    "word_count = count_vectorizer.fit_transform(people['text'])\n",
    "from sklearn.feature_extraction.text import TfidfTransformer\n",
    "tfidf_transformer = TfidfTransformer()\n",
    "tfidf = tfidf_transformer.fit_transform(word_count)"
   ]
  },
  {
   "cell_type": "code",
   "execution_count": 12,
   "metadata": {},
   "outputs": [
    {
     "data": {
      "text/plain": [
       "NearestNeighbors(algorithm='auto', leaf_size=30, metric='minkowski',\n",
       "         metric_params=None, n_jobs=-1, n_neighbors=1, p=2, radius=1.0)"
      ]
     },
     "execution_count": 12,
     "metadata": {},
     "output_type": "execute_result"
    }
   ],
   "source": [
    "from sklearn.neighbors import NearestNeighbors\n",
    "neigh = NearestNeighbors(n_neighbors=1, n_jobs=-1)\n",
    "neigh.fit(tfidf)"
   ]
  },
  {
   "cell_type": "code",
   "execution_count": 13,
   "metadata": {},
   "outputs": [],
   "source": [
    "obama_word_counts = count_vectorizer.transform(['obama'])"
   ]
  },
  {
   "cell_type": "code",
   "execution_count": 14,
   "metadata": {},
   "outputs": [],
   "source": [
    "obama_tfidf = tfidf_transformer.transform(obama_word_counts)"
   ]
  },
  {
   "cell_type": "code",
   "execution_count": 15,
   "metadata": {},
   "outputs": [],
   "source": [
    "res = neigh.kneighbors(obama_tfidf, return_distance=False)"
   ]
  },
  {
   "cell_type": "code",
   "execution_count": 16,
   "metadata": {},
   "outputs": [
    {
     "name": "stdout",
     "output_type": "stream",
     "text": [
      "[[35811]]\n"
     ]
    }
   ],
   "source": [
    "print res"
   ]
  },
  {
   "cell_type": "code",
   "execution_count": 17,
   "metadata": {},
   "outputs": [
    {
     "data": {
      "text/plain": [
       "URI                                                                                                                                                                                                                                                                                                                                                                                                                                                                                                                                                                                                                                                                                                                                                                                                                                                                                                                                                                                                                                                                                                                                                                                                                                                                                                                                                                                                                                                                                                                                                                                                                                                                                                                                                                                                                                                                                                                                                                                                                                                                                                                                                                                                                                                                                                                                                                                                                                                                                                                                                                                                                                                                                                                                                                                                                                                                                                                                                                                                                                                                                                                                                                                                                                                                                                                                                                         <http://dbpedia.org/resource/Barack_Obama>\n",
       "name                                                                                                                                                                                                                                                                                                                                                                                                                                                                                                                                                                                                                                                                                                                                                                                                                                                                                                                                                                                                                                                                                                                                                                                                                                                                                                                                                                                                                                                                                                                                                                                                                                                                                                                                                                                                                                                                                                                                                                                                                                                                                                                                                                                                                                                                                                                                                                                                                                                                                                                                                                                                                                                                                                                                                                                                                                                                                                                                                                                                                                                                                                                                                                                                                                                                                                                                                                                                      Barack Obama\n",
       "text    barack hussein obama ii brk husen bm born august 4 1961 is the 44th and current president of the united states and the first african american to hold the office born in honolulu hawaii obama is a graduate of columbia university and harvard law school where he served as president of the harvard law review he was a community organizer in chicago before earning his law degree he worked as a civil rights attorney and taught constitutional law at the university of chicago law school from 1992 to 2004 he served three terms representing the 13th district in the illinois senate from 1997 to 2004 running unsuccessfully for the united states house of representatives in 2000in 2004 obama received national attention during his campaign to represent illinois in the united states senate with his victory in the march democratic party primary his keynote address at the democratic national convention in july and his election to the senate in november he began his presidential campaign in 2007 and after a close primary campaign against hillary rodham clinton in 2008 he won sufficient delegates in the democratic party primaries to receive the presidential nomination he then defeated republican nominee john mccain in the general election and was inaugurated as president on january 20 2009 nine months after his election obama was named the 2009 nobel peace prize laureateduring his first two years in office obama signed into law economic stimulus legislation in response to the great recession in the form of the american recovery and reinvestment act of 2009 and the tax relief unemployment insurance reauthorization and job creation act of 2010 other major domestic initiatives in his first term included the patient protection and affordable care act often referred to as obamacare the doddfrank wall street reform and consumer protection act and the dont ask dont tell repeal act of 2010 in foreign policy obama ended us military involvement in the iraq war increased us troop levels in afghanistan signed the new start arms control treaty with russia ordered us military involvement in libya and ordered the military operation that resulted in the death of osama bin laden in january 2011 the republicans regained control of the house of representatives as the democratic party lost a total of 63 seats and after a lengthy debate over federal spending and whether or not to raise the nations debt limit obama signed the budget control act of 2011 and the american taxpayer relief act of 2012obama was reelected president in november 2012 defeating republican nominee mitt romney and was sworn in for a second term on january 20 2013 during his second term obama has promoted domestic policies related to gun control in response to the sandy hook elementary school shooting and has called for full equality for lgbt americans while his administration has filed briefs which urged the supreme court to strike down the defense of marriage act of 1996 and californias proposition 8 as unconstitutional in foreign policy obama ordered us military involvement in iraq in response to gains made by the islamic state in iraq after the 2011 withdrawal from iraq continued the process of ending us combat operations in afghanistan and has sought to normalize us relations with cuba\n",
       "Name: 35811, dtype: object"
      ]
     },
     "execution_count": 17,
     "metadata": {},
     "output_type": "execute_result"
    }
   ],
   "source": [
    "people.iloc[35811]"
   ]
  },
  {
   "cell_type": "code",
   "execution_count": 18,
   "metadata": {},
   "outputs": [
    {
     "data": {
      "text/plain": [
       "NearestNeighbors(algorithm='auto', leaf_size=30, metric='minkowski',\n",
       "         metric_params=None, n_jobs=-1, n_neighbors=2, p=2, radius=1.0)"
      ]
     },
     "execution_count": 18,
     "metadata": {},
     "output_type": "execute_result"
    }
   ],
   "source": [
    "neigh = NearestNeighbors(n_neighbors=2, n_jobs=-1)\n",
    "neigh.fit(tfidf)"
   ]
  },
  {
   "cell_type": "code",
   "execution_count": 19,
   "metadata": {},
   "outputs": [],
   "source": [
    "res = neigh.kneighbors(obama_tfidf, return_distance=False)"
   ]
  },
  {
   "cell_type": "code",
   "execution_count": 20,
   "metadata": {},
   "outputs": [
    {
     "name": "stdout",
     "output_type": "stream",
     "text": [
      "[[35811  4032]]\n"
     ]
    }
   ],
   "source": [
    "print res"
   ]
  },
  {
   "cell_type": "code",
   "execution_count": 21,
   "metadata": {},
   "outputs": [
    {
     "data": {
      "text/plain": [
       "URI                                                                                                                                                                                                                                                                                                                                                                                                                                                                                                                                                                                                                                                                                                                                                                                                                                                                                                                                                                                                                                                                                                                                                                                                                                                                                                      <http://dbpedia.org/resource/Kenneth_D._Thompson>\n",
       "name                                                                                                                                                                                                                                                                                                                                                                                                                                                                                                                                                                                                                                                                                                                                                                                                                                                                                                                                                                                                                                                                                                                                                                                                                                                                                                                                   Kenneth D. Thompson\n",
       "text    kenneth d kenny thompson jr former aide to barack obama and joe biden now serves as director of external relations at pepsicohe was born october 31 1980 son of kenneth and alisha thompson a native of pflugerville texas thompson graduated from texas christian university tcu where he was a member of the universitys baseball team and majored in political sciencethompson joined obama for america in 2007 as part of the campaigns advance team he went on to serve as a special assistant and advance lead at the white house during the first two years of the barack obama administration he then served as senior advisor and executive assistant for united states trade representative ron kirk prior to leaving the administration in july 2013 for pepsico he was vice president joe bidens director of message events in the office of the vice presidentat the april 2013 white house celebration of memphis soul music president obama publicly congratulations thompson and jessica wright another longtime obama aide on their engagement the president called thompson and wright crucial members of my team they are wonderful theyve been loyal shown such great friendship to methompson was featured in vice president bidens cameo on an episode of the nbc sitcom parks and recreation that aired on november 15 2012\n",
       "Name: 4032, dtype: object"
      ]
     },
     "execution_count": 21,
     "metadata": {},
     "output_type": "execute_result"
    }
   ],
   "source": [
    "people.iloc[4032]"
   ]
  },
  {
   "cell_type": "markdown",
   "metadata": {},
   "source": [
    "## Other examples of document retrieval"
   ]
  },
  {
   "cell_type": "code",
   "execution_count": 27,
   "metadata": {},
   "outputs": [
    {
     "name": "stdout",
     "output_type": "stream",
     "text": [
      "[[9379  464]]\n"
     ]
    }
   ],
   "source": [
    "swift = people[people['name'] == 'Taylor Swift']\n",
    "swift_word_counts = count_vectorizer.transform(['Taylor Swift'])\n",
    "swift_tfidf = tfidf_transformer.transform(swift_word_counts)\n",
    "res = neigh.kneighbors(swift_tfidf, return_distance=False)\n",
    "print res"
   ]
  },
  {
   "cell_type": "code",
   "execution_count": 25,
   "metadata": {},
   "outputs": [
    {
     "data": {
      "text/plain": [
       "URI                                                                                                                                                                                                                                                                                                                                                                                                                                                                                                                                                                                                                                                                                                                                                                                                                                                                                                                                                                                                                                                                                                                                                                                                                                                                                                                                                                                                                                                                                                                                                                                                                                                                                                                                                                                                                                                                                                                                                                                                                                                                                                                                                                                                                                                                           <http://dbpedia.org/resource/Al_Swift>\n",
       "name                                                                                                                                                                                                                                                                                                                                                                                                                                                                                                                                                                                                                                                                                                                                                                                                                                                                                                                                                                                                                                                                                                                                                                                                                                                                                                                                                                                                                                                                                                                                                                                                                                                                                                                                                                                                                                                                                                                                                                                                                                                                                                                                                                                                                                                                                                        Al Swift\n",
       "text    allan byron swift born september 12 1935 an emmy awardwinning broadcaster served as a member of the united states house of representatives from 1979 to 1995 he represented the second congressional district of washington as a democratswift was born in tacoma washington in 1935 he received a bachelors degree from the central washington college of education in 1957he was first elected to the house in 1978 replacing the retiring lloyd meeds for whom swift had served as an administrative assistant from 1965 to 1969 swift won reelection in 1980 1982 1984 1986 1988 1990 and 1992 swift served on the powerful energy and commerce committee of which he was the 5th ranking member during his final term and chair of the subcommittee on transportation and hazardous materials he also chaired the subcommittee on elections of the house administration committee among his accomplishments was authorship of emergency planning and community righttoknow act which was designed to support emergency planning regarding superfund sites swift also authored and led the passage of the national voter registration act of 1993 otherwise known as motorvoter which expanded voter registration options nationwide including drivers license offices and mailin registration he retired and did not run for reelection in 1994 an election in which the democrats lost this seatprior to his sixteen years in congress swift was a broadcaster in several stations throughout washington state in the towns of walla walla kuj ellensburg kxle and bellingham kvos at kvos he was director of news and public affairs producing a series of weekly public interest programs and documentaries and earning an emmy from the national academy of television arts and sciencesfollowing his final term in congress swift was vice president of governmental affairs with burlington northern railroad until its merger with santa fe railroad in 1996 he is now a principal with the washington dc political strategy firm colling swift hynes and a regular member of the internet based radio talk show called backroom politics wwwblogtalkradiocombackroompolitics he and his wife paula have two grown daughters amy swift donovan and lauri swift and reside in alexandria virginia\n",
       "Name: 9379, dtype: object"
      ]
     },
     "execution_count": 25,
     "metadata": {},
     "output_type": "execute_result"
    }
   ],
   "source": [
    "people.iloc[9379]"
   ]
  },
  {
   "cell_type": "code",
   "execution_count": 26,
   "metadata": {},
   "outputs": [
    {
     "data": {
      "text/plain": [
       "URI                                                                                                                                                                                                                                                                                                                                                                                                                                                                                                                                                                                                                                                                                                                                                                                                                                                                                                                                                                                                                                                                                                                                                                                                                                                                                                                                                                                                                                                                                                                                                                                                                                                                                                                                                                                                                                                                                                                                                                                                                                                                                                                                                                                                                                                                 <http://dbpedia.org/resource/Charles_Swift>\n",
       "name                                                                                                                                                                                                                                                                                                                                                                                                                                                                                                                                                                                                                                                                                                                                                                                                                                                                                                                                                                                                                                                                                                                                                                                                                                                                                                                                                                                                                                                                                                                                                                                                                                                                                                                                                                                                                                                                                                                                                                                                                                                                                                                                                                                                                                                                                              Charles Swift\n",
       "text    charles d swift born 1961 is an attorney and former career navy officer who retired in 2007 as a lieutenant commander in the judge advocate generals corps he is most noted for having served as defense counsel for salim ahmed hamdan a detainee from yemen who was the first to be charged at guantanamo bay swift took his case to the us supreme court in 2005 and june 2006 the national law journal recognized swift as one of the top lawyers nationally because of his work on behalf of justice for the detaineesswift used the civil courts to challenge the constitutionality of the military tribunals and the legal treatment of detainees in hamdan v rumsfeld 2006 a case that went to the us supreme court and was decided in his clients favor as a result congress passed the military commissions act of 2006 to authorize a form of military tribunals and incorporate the courts concerns about reconciliation with the us uniform code of military justice and the geneva conventionsduring his navy career swift served in a variety of assignments including at sea after several years he was approved to attend law school and after graduation in 1994 became a member of the navys legal corps in 2003 he was assigned to the department of defense office of military commissions serving into early 2007 there he was assigned as defense counsel to salim ahmed hamdan because of his challenges swift was helping make the law on detainee treatment in the war on terrorin june 2006 swift learned he had been passed over by the navy a second time for promotion as a result under the militarys up or out system he had to retire in the spring of 2007 he learned of being passed over two weeks after the supreme court decided in hamdans favor and intended to continue defending hamdan as a civilianfrom 2007 through 2008 swift taught at emory law school as a visiting associate professor and acting director of its newly established international humanitarian law clinic hamdan was convicted of one of his charges in 2008 but credited for time detained he was returned to yemen in 2008 swift worked to appeal his conviction in october 2012 hamdan was acquitted of all charges in the united states appeals court of the district of columbia\n",
       "Name: 464, dtype: object"
      ]
     },
     "execution_count": 26,
     "metadata": {},
     "output_type": "execute_result"
    }
   ],
   "source": [
    "people.iloc[464]"
   ]
  },
  {
   "cell_type": "code",
   "execution_count": 28,
   "metadata": {},
   "outputs": [
    {
     "name": "stdout",
     "output_type": "stream",
     "text": [
      "[[39515 16625]]\n"
     ]
    }
   ],
   "source": [
    "jolie = people[people['name'] == 'Angelina Jolie']\n",
    "jolie_word_counts = count_vectorizer.transform(['Angelina Jolie'])\n",
    "jolie_tfidf = tfidf_transformer.transform(jolie_word_counts)\n",
    "res = neigh.kneighbors(jolie_tfidf, return_distance=False)\n",
    "print res"
   ]
  },
  {
   "cell_type": "code",
   "execution_count": 30,
   "metadata": {},
   "outputs": [
    {
     "data": {
      "text/plain": [
       "URI                                                                                                                                                                                                                                                                                                                                                                                                                                                                                                                                                                                                                                                                                                                                                                                                                                                                                                                                                                                                                                                                                                                                                                                                                                                                                                                                                                                                                                                                                                                                                                                                                                                                                                                                                                                                                                                                                                                                                                                                                                                                                                                                                                                                                                                                       <http://dbpedia.org/resource/Angelina_Jolie>\n",
       "name                                                                                                                                                                                                                                                                                                                                                                                                                                                                                                                                                                                                                                                                                                                                                                                                                                                                                                                                                                                                                                                                                                                                                                                                                                                                                                                                                                                                                                                                                                                                                                                                                                                                                                                                                                                                                                                                                                                                                                                                                                                                                                                                                                                                                                                                                                    Angelina Jolie\n",
       "text    angelina jolie doli johlee born angelina jolie voight june 4 1975 is an american actress director producer writer and humanitarian she has won an academy award two screen actors guild awards and three golden globe awards and has been cited as hollywoods highestpaid actress jolie made her screen debut as a child alongside her father jon voight in lookin to get out 1982 her film career began in earnest a decade later with the lowbudget production cyborg 2 1993 followed by her first leading role in a major film hackers 1995 she starred in the critically acclaimed biographical television films george wallace 1997 and gia 1998 and won an academy award for best supporting actress for her performance in the drama girl interrupted 1999 jolies starring role as the video game heroine lara croft in lara croft tomb raider 2001 established her as a leading hollywood actress she continued her successful actionstar career with mr mrs smith 2005 wanted 2008 and salt 2010 and received critical acclaim for her performances in the dramas a mighty heart 2007 and changeling 2008 which earned her a nomination for an academy award for best actress beginning in the 2010s she expanded her career by directing and producing the wartime dramas in the land of blood and honey 2011 and unbroken 2014 her biggest commercial success came with the disney fantasy maleficent 2014in addition to her film career jolie is noted for her humanitarian efforts for which she has received a jean hersholt humanitarian award and an honorary damehood of the order of st michael and st george dcmg among other honors she promotes various causes including conservation education and antisexual violence and is most noted for her advocacy on behalf of refugees as a special envoy for the united nations high commissioner for refugees unhcr as a public figure jolie has been cited as one of the most influential people in the american entertainment industry as well as the worlds most beautiful woman by various media outlets her personal life is the subject of wide publicity divorced from actors jonny lee miller and billy bob thornton she is now married to actor brad pitt they have six children together three of whom were adopted internationally\n",
       "Name: 39515, dtype: object"
      ]
     },
     "execution_count": 30,
     "metadata": {},
     "output_type": "execute_result"
    }
   ],
   "source": [
    "people.iloc[39515]"
   ]
  },
  {
   "cell_type": "code",
   "execution_count": 31,
   "metadata": {},
   "outputs": [
    {
     "data": {
      "text/plain": [
       "URI                                                                                                                                                                                                                                                                                                                                                                                                                                                                                                                                                                                                                                                                                                                                                                                                                                                                                                                                                                                                                                                                                                                                                                                                                                                                                                                                                                                                                                                                                                                                                                                                                                                                                                                                                                                                                                                                                                                                                                                                                                                                                                                                                                                                                                                                                                                                                                                                                                                                                                                                                                                                                                                                                                                                                                                                                                                                                                                                                                                                          <http://dbpedia.org/resource/Keith_Jolie>\n",
       "name                                                                                                                                                                                                                                                                                                                                                                                                                                                                                                                                                                                                                                                                                                                                                                                                                                                                                                                                                                                                                                                                                                                                                                                                                                                                                                                                                                                                                                                                                                                                                                                                                                                                                                                                                                                                                                                                                                                                                                                                                                                                                                                                                                                                                                                                                                                                                                                                                                                                                                                                                                                                                                                                                                                                                                                                                                                                                                                                                                                                                                       Keith Jolie\n",
       "text    keith jolie is a canadian singersongwriter he was born in brantford ontario and raised in st george ontario jolie attended the university of windsor while studying in windsor jolie would take in the music that spilled across the border from detroit and windsors indie music scene as well as the blues and jazz artists that would regularly play in windsor in 1993 keith began hosting a weekly 3hour canadian music show called moose radio south of the border which showcased the canadian independent music scene of the time over time this musical influence as well as the lyrical influences of the writers from the american beat movement and his other musical interests began to form the basis for the lyrical nature of jolies songwritingafter convocation jolie moved back to st george where he began performing at numerous venues in the brantford area including a weekly wednesday night residency at the turnaround a venue that mostly featured punk bands his solo acoustic performances in this venue seem to have added an edginess and confidence to his songwriting and performance that allowed him playing as a solo acoustic act to fit in on bills with full rock bands during this time he shared bills with bands like transistor sound and light company made and by devine rightby 1997 keith was a regular performer at poor folks deli brantford a unique venue that featured live music seven days a week and was home to some of the top touring blues performers as well as local and performers and other touring acts he also held a weekly residency at morgans on the grand paris in the summer of 1998 keith released city so coldin 2000 jolie moved to toronto to further his musical aspirations he began performing at coffee houses and open stages at the free times cafe graffitis in kensington market and various other venues around the city from 2000 to 2003 jolie played with irish folk groups fresh ire and celtic cross on guitar and vocalsin 2003 jolie moved to calgary for about 9 months where he spent some time writing and performing occasionally at open mic nights at jackdaws a folk music venue in calgarys south west endin 2005 after returning to toronto jolie recruited minas hatzigiannatzoglou drummer and steve cave bassist to form a new band called endsville in 2006 paul butters guitar and matthew bartram keyboard were added to the lineup in 2007 steve cave left the lineup to be replaced by colin eddylites who had played with the band in some early rehearsals in 2008 morgan phillips was finally introduced as the full time bass player for endsville 2008 marked the release of the bands debut release sidewalk stories words and music by keith joliein the summer of 2009 endsville was disbanded and keith now performs under his own namethe current line up of keiths band consists morgan phillips on bass billy young on guitarwilliam tex tobin on guitar sarah young on backing vocals and sean louis murphy on drums\n",
       "Name: 16625, dtype: object"
      ]
     },
     "execution_count": 31,
     "metadata": {},
     "output_type": "execute_result"
    }
   ],
   "source": [
    "people.iloc[16625]"
   ]
  },
  {
   "cell_type": "code",
   "execution_count": 32,
   "metadata": {},
   "outputs": [
    {
     "name": "stdout",
     "output_type": "stream",
     "text": [
      "[[16018 39100]]\n"
     ]
    }
   ],
   "source": [
    "arnold = people[people['name'] == 'Arnold Schwarzenegger']\n",
    "arnold_word_counts = count_vectorizer.transform(['Arnold Schwarzenegger'])\n",
    "arnold_tfidf = tfidf_transformer.transform(arnold_word_counts)\n",
    "res = neigh.kneighbors(arnold_tfidf, return_distance=False)\n",
    "print res"
   ]
  },
  {
   "cell_type": "code",
   "execution_count": 33,
   "metadata": {},
   "outputs": [
    {
     "data": {
      "text/plain": [
       "URI                                                                                                                                                                                                                                                                                                                                                                                                                                                                                                                                                                                                                                                                                                                                                                                                                                                                                                                                                                                                                                                                                                                                                                                                                                                                                                                                                                                                                                                                                                                                                                                                                                                                                                                                                                                                                                                                                                                                                                                                                                                                                                                                                                                                                                                                                                                                              <http://dbpedia.org/resource/Arnold_Schwarzenegger>\n",
       "name                                                                                                                                                                                                                                                                                                                                                                                                                                                                                                                                                                                                                                                                                                                                                                                                                                                                                                                                                                                                                                                                                                                                                                                                                                                                                                                                                                                                                                                                                                                                                                                                                                                                                                                                                                                                                                                                                                                                                                                                                                                                                                                                                                                                                                                                                                                                                                           Arnold Schwarzenegger\n",
       "text    arnold alois schwarzenegger wrtsnr german anlt als vatsn born july 30 1947 is an austrianborn american actor producer activist businessman investor writer philanthropist former professional bodybuilder and politician schwarzenegger served two terms as the 38th governor of california from 2003 until 2011schwarzenegger began weight training at the age of 15 he won the mr universe title at age 20 and went on to win the mr olympia contest seven times schwarzenegger has remained a prominent presence in bodybuilding and has written many books and articles on the sport schwarzenegger gained worldwide fame as a hollywood action film icon schwarzeneggers breakthrough film was the swordandsorcery epic conan the barbarian in 1982 which was a boxoffice hit and resulted in a sequel in 1984 he appeared in james camerons sciencefiction thriller film the terminator which was a massive critical and boxoffice success schwarzenegger subsequently reprised the terminator character in the franchises later installments in 1991 2003 and 2015 he appeared in a number of successful films such as commando 1985 the running man 1987 predator 1987 twins 1988 total recall 1990 kindergarten cop 1990 and true lies 1994 he was nicknamed the austrian oak and the styrian oak in his bodybuilding days arnie during his acting career and the governator a portmanteau of governor and the terminator one of his bestknown movie roles since the start of his political careeras a republican he was first elected on october 7 2003 in a special recall election to replace thengovernor gray davis schwarzenegger was sworn in on november 17 2003 to serve the remainder of daviss term schwarzenegger was then reelected on november 7 2006 in californias 2006 gubernatorial election to serve a full term as governor defeating democrat phil angelides who was california state treasurer at the time schwarzenegger was sworn in for his second term on january 5 2007 in 2011 schwarzenegger completed his second term as governor and it was announced that he had separated from maria shriver his wife for the previous 25 years she is a member of the influential kennedy family as a niece of the late democratic us president john f kennedy on january 26 2015 he was announced as the second inductee into the wwe hall of fame class of 2015\n",
       "Name: 16018, dtype: object"
      ]
     },
     "execution_count": 33,
     "metadata": {},
     "output_type": "execute_result"
    }
   ],
   "source": [
    "people.iloc[16018]"
   ]
  },
  {
   "cell_type": "code",
   "execution_count": 34,
   "metadata": {},
   "outputs": [
    {
     "data": {
      "text/plain": [
       "URI                                                                                                                                                                                                                                                                                                                                                                                                                                                                                                                                                                                                                                                                                                                                                                                                                                                                                                                                                                                                                                                                                                                                                                                                                                                                                                                                                                                                                                                                                                                                                                                                                                                                                                                                                                                                                                                                                                                                                                                                                                                                                                                                                                                                                                                                                                                                                                                                                                                                                                                                                                                     <http://dbpedia.org/resource/Jaylen_Arnold>\n",
       "name                                                                                                                                                                                                                                                                                                                                                                                                                                                                                                                                                                                                                                                                                                                                                                                                                                                                                                                                                                                                                                                                                                                                                                                                                                                                                                                                                                                                                                                                                                                                                                                                                                                                                                                                                                                                                                                                                                                                                                                                                                                                                                                                                                                                                                                                                                                                                                                                                                                                                                                                                                                                                  Jaylen Arnold\n",
       "text    jaylen arnold born jaylen malachi holt arnold august 28 2000 is an american activist philanthropist and actor he was born to howard john arnold jr and robin arnold he is the founder of jaylens challenge wwwjaylenschallengeorg an international antibullying crusade for people from all walks of life his mission is to educate the educators teach tolerance to the tormentors and banish bullying for all his tagline one little boy one massive goalbullying no waysince the start of his campaign in may 2009 he has gained the support and attention of hollywood and several celebrities actors dash mihok terrell ransom jr days of our lives brian j white anthony anderson sam waterston and leonardo dicaprio support his campaign jaylens logo and yellowblue wristands which support the phrase bullying no way are iconic on the wrists of these celebrities see references belowjaylen arnold and actor dash mihok have created several national psas and television commercials together jaylen arnold has recently been featured in hundreds of news and media articles across the country including nyu medical center xm satellite radio cnn news and cbs national news with katie couric where jaylen arnold was featured as the american spirit november 5 2009 jaylen has declined requests to appear for the dr phil mcgraw show and the bonnie hunt showmore recently jaylen arnold was invited to and brought his crusade to universal studios as a celebrity vip guest and a television commercial was completed on locationjaylen arnold has been honored awarded and featured for kids are heroes the doctors radio show san juan island little chief and nickelodeons shout outs he is a member of the koodooz youth advisory boardinternational musicians daniel freedman and dash mihok have composed the jaylens challenge anthem based on the philanthropic efforts to make a differenceas part of their charitable efforts in january 2010 jaylen arnold and dash mihok in a group effort helped to raise more than 57000 in a one lap closer to a cure marathon hosted by walt disney world florida to benefit the national tourette syndrome association tsajaylen arnold and dash mihok currently hold speaking engagements at universities institutes and schools nationwide in order to continue educating jaylen also continues in the realm of television modeling and acting jaylen has just completed filming a documentary for the discovery health channel called tourettes uncovered filming continued to late june 2010 with an air date of september 13 2010 at 9 pm est\n",
       "Name: 39100, dtype: object"
      ]
     },
     "execution_count": 34,
     "metadata": {},
     "output_type": "execute_result"
    }
   ],
   "source": [
    "people.iloc[39100]"
   ]
  },
  {
   "cell_type": "code",
   "execution_count": null,
   "metadata": {},
   "outputs": [],
   "source": []
  }
 ],
 "metadata": {
  "kernelspec": {
   "display_name": "Python 2",
   "language": "python",
   "name": "python2"
  },
  "language_info": {
   "codemirror_mode": {
    "name": "ipython",
    "version": 2
   },
   "file_extension": ".py",
   "mimetype": "text/x-python",
   "name": "python",
   "nbconvert_exporter": "python",
   "pygments_lexer": "ipython2",
   "version": "2.7.12"
  }
 },
 "nbformat": 4,
 "nbformat_minor": 2
}
