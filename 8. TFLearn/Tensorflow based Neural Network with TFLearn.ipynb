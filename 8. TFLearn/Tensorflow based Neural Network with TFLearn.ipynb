{
 "cells": [
  {
   "cell_type": "markdown",
   "metadata": {},
   "source": [
    "# Tensorflow based Neural Network with TFLearn"
   ]
  },
  {
   "cell_type": "markdown",
   "metadata": {},
   "source": [
    "## Import all the required libraries"
   ]
  },
  {
   "cell_type": "code",
   "execution_count": 1,
   "metadata": {},
   "outputs": [],
   "source": [
    "import pandas as pd\n",
    "import copy\n",
    "import numpy as np\n",
    "import tflearn\n",
    "import tensorflow as tf"
   ]
  },
  {
   "cell_type": "markdown",
   "metadata": {},
   "source": [
    "## Load training and test data"
   ]
  },
  {
   "cell_type": "code",
   "execution_count": 21,
   "metadata": {
    "scrolled": true
   },
   "outputs": [],
   "source": [
    "df_train = pd.read_csv('adult.data', header = None)\n",
    "df_test = pd.read_csv('adult.test', header = None)"
   ]
  },
  {
   "cell_type": "markdown",
   "metadata": {},
   "source": [
    "## Compute input features and output labels for train and test data"
   ]
  },
  {
   "cell_type": "code",
   "execution_count": 22,
   "metadata": {},
   "outputs": [
    {
     "name": "stdout",
     "output_type": "stream",
     "text": [
      "X train shape = (32561, 108)\n",
      "Y train shape = (32561, 2)\n",
      "X test shape = (16281, 108)\n",
      "Y test  shape = (16281, 2)\n"
     ]
    }
   ],
   "source": [
    "X_train_orig = df_train.drop(df_train.columns[[14]], axis=1, inplace=False)\n",
    "Y_train_orig = df_train[[14]]\n",
    "X_test_orig = df_test.drop(df_test.columns[[14]], axis=1, inplace=False)\n",
    "Y_test_orig = df_test[[14]]\n",
    "dataset = pd.concat(objs=[X_train_orig, X_test_orig], axis = 0)\n",
    "data = pd.get_dummies(dataset)              # get one hot encoding\n",
    "X_train = copy.copy(data[:len(X_train_orig)])\n",
    "X_test = copy.copy(data[len(X_train_orig):])\n",
    "Y_train = pd.get_dummies(Y_train_orig)      # get one hot encoding\n",
    "Y_test = pd.get_dummies(Y_test_orig)        # get one hot encoding\n",
    "print \"X train shape = \" + str(X_train.shape)\n",
    "print \"Y train shape = \" + str(Y_train.shape)\n",
    "print \"X test shape = \" + str(X_test.shape)\n",
    "print \"Y test  shape = \" + str(Y_test.shape)"
   ]
  },
  {
   "cell_type": "markdown",
   "metadata": {},
   "source": [
    "## Create tensorflow based Neural Network using TFLearn"
   ]
  },
  {
   "cell_type": "markdown",
   "metadata": {},
   "source": [
    "### reset tensorflow graph in case of re execution"
   ]
  },
  {
   "cell_type": "code",
   "execution_count": null,
   "metadata": {},
   "outputs": [],
   "source": [
    "tf.reset_default_graph()"
   ]
  },
  {
   "cell_type": "markdown",
   "metadata": {},
   "source": [
    "### Input layer. Note that the shape matches that of input printed above"
   ]
  },
  {
   "cell_type": "code",
   "execution_count": null,
   "metadata": {},
   "outputs": [],
   "source": [
    "network = tflearn.input_data([None, 108])"
   ]
  },
  {
   "cell_type": "markdown",
   "metadata": {},
   "source": [
    "### Four hidden layers of 10 neurons each."
   ]
  },
  {
   "cell_type": "code",
   "execution_count": null,
   "metadata": {},
   "outputs": [],
   "source": [
    "network = tflearn.fully_connected(network, 10)\n",
    "network = tflearn.fully_connected(network, 10)\n",
    "network = tflearn.fully_connected(network, 10)\n",
    "network = tflearn.fully_connected(network, 10)"
   ]
  },
  {
   "cell_type": "markdown",
   "metadata": {},
   "source": [
    "### Output softmax layer with two classes"
   ]
  },
  {
   "cell_type": "code",
   "execution_count": 23,
   "metadata": {},
   "outputs": [
    {
     "name": "stdout",
     "output_type": "stream",
     "text": [
      "Training Step: 203600  | total loss: \u001b[1m\u001b[32m5.56421\u001b[0m\u001b[0m | time: 9.782s\n",
      "\u001b[2K\r",
      "| SGD | epoch: 100 | loss: 5.56421 - acc: 0.7583 -- iter: 32561/32561\n"
     ]
    }
   ],
   "source": [
    "network = tflearn.fully_connected(network, 2, activation='softmax')\n",
    "sgd = tflearn.SGD(learning_rate=1.0, lr_decay=0.96, decay_step=500)\n",
    "network = tflearn.regression(network, optimizer=sgd, loss='categorical_crossentropy')\n",
    "model = tflearn.DNN(network)\n",
    "model.fit(np.array(X_train), np.array(Y_train), show_metric=True, batch_size=16, n_epoch=100, snapshot_epoch=False)"
   ]
  },
  {
   "cell_type": "code",
   "execution_count": 24,
   "metadata": {},
   "outputs": [
    {
     "name": "stdout",
     "output_type": "stream",
     "text": [
      "Accuracy: 76.3773723973%\n"
     ]
    }
   ],
   "source": [
    "print(\"Accuracy: {}%\".format(100 * np.mean(Y_test.iloc[:, 1] == np.argmax(model.predict(X_test), axis=1))))"
   ]
  }
 ],
 "metadata": {
  "kernelspec": {
   "display_name": "Python 2",
   "language": "python",
   "name": "python2"
  },
  "language_info": {
   "codemirror_mode": {
    "name": "ipython",
    "version": 2
   },
   "file_extension": ".py",
   "mimetype": "text/x-python",
   "name": "python",
   "nbconvert_exporter": "python",
   "pygments_lexer": "ipython2",
   "version": "2.7.12"
  }
 },
 "nbformat": 4,
 "nbformat_minor": 2
}
