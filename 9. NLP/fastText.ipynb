{
 "cells": [
  {
   "cell_type": "code",
   "execution_count": 12,
   "metadata": {},
   "outputs": [
    {
     "name": "stdout",
     "output_type": "stream",
     "text": [
      "Get:1 http://security.ubuntu.com/ubuntu xenial-security InRelease [107 kB]\n",
      "Get:2 http://archive.ubuntu.com/ubuntu xenial InRelease [247 kB]\n",
      "Get:3 http://security.ubuntu.com/ubuntu xenial-security/universe Sources [93.8 kB]\n",
      "Get:4 http://archive.ubuntu.com/ubuntu xenial-updates InRelease [109 kB]       \n",
      "Get:5 http://archive.ubuntu.com/ubuntu xenial-backports InRelease [107 kB]     \n",
      "Get:6 http://security.ubuntu.com/ubuntu xenial-security/main amd64 Packages [709 kB]\n",
      "Get:7 http://archive.ubuntu.com/ubuntu xenial/universe Sources [9802 kB]       \n",
      "Get:8 http://archive.ubuntu.com/ubuntu xenial/main amd64 Packages [1558 kB]   \n",
      "Get:8 http://archive.ubuntu.com/ubuntu xenial/main amd64 Packages [1558 kB]  \n",
      "Get:11 http://security.ubuntu.com/ubuntu xenial-security/restricted amd64 Packages [12.7 kB]\n",
      "Get:12 http://security.ubuntu.com/ubuntu xenial-security/universe amd64 Packages [481 kB]\n",
      "Get:13 http://security.ubuntu.com/ubuntu xenial-security/multiverse amd64 Packages [3744 B]\n",
      "Get:8 http://archive.ubuntu.com/ubuntu xenial/main amd64 Packages [1558 kB]\n",
      "Get:14 http://archive.ubuntu.com/ubuntu xenial/restricted amd64 Packages [14.1 kB]\n",
      "Get:15 http://archive.ubuntu.com/ubuntu xenial/universe amd64 Packages [9827 kB]\n",
      "Get:16 http://archive.ubuntu.com/ubuntu xenial/multiverse amd64 Packages [176 kB]\n",
      "Get:17 http://archive.ubuntu.com/ubuntu xenial-updates/main amd64 Packages [1097 kB]\n",
      "Get:18 http://archive.ubuntu.com/ubuntu xenial-updates/restricted amd64 Packages [13.1 kB]\n",
      "Get:19 http://archive.ubuntu.com/ubuntu xenial-updates/universe amd64 Packages [889 kB]\n",
      "Get:20 http://archive.ubuntu.com/ubuntu xenial-updates/multiverse amd64 Packages [18.8 kB]\n",
      "Get:21 http://archive.ubuntu.com/ubuntu xenial-backports/universe amd64 Packages [8256 B]\n",
      "Fetched 25.6 MB in 1min 8s (371 kB/s)                                          \n",
      "Reading package lists... Done\n",
      "W: http://archive.ubuntu.com/ubuntu/dists/xenial/main/binary-amd64/by-hash/SHA256/8d6ab57abf517d7712e4e4d23d762485af49f8140a83b221ea7282f82a51c795: Automatically disabled Acquire::http::Pipeline-Depth due to incorrect response from server/proxy. (man 5 apt.conf)\n"
     ]
    }
   ],
   "source": [
    "!apt-get update"
   ]
  },
  {
   "cell_type": "code",
   "execution_count": 14,
   "metadata": {},
   "outputs": [
    {
     "name": "stdout",
     "output_type": "stream",
     "text": [
      "Reading package lists... Done\n",
      "Building dependency tree       \n",
      "Reading state information... Done\n",
      "git is already the newest version (1:2.7.4-0ubuntu1.4).\n",
      "0 upgraded, 0 newly installed, 0 to remove and 10 not upgraded.\n"
     ]
    }
   ],
   "source": [
    "!apt-get --assume-yes install git"
   ]
  },
  {
   "cell_type": "code",
   "execution_count": 15,
   "metadata": {},
   "outputs": [
    {
     "name": "stdout",
     "output_type": "stream",
     "text": [
      "Cloning into 'fastText'...\n",
      "remote: Enumerating objects: 2583, done.\u001b[K\n",
      "remote: Total 2583 (delta 0), reused 0 (delta 0), pack-reused 2583\u001b[K\n",
      "Receiving objects: 100% (2583/2583), 7.62 MiB | 644.00 KiB/s, done.\n",
      "Resolving deltas: 100% (1601/1601), done.\n",
      "Checking connectivity... done.\n"
     ]
    }
   ],
   "source": [
    "!git clone https://github.com/facebookresearch/fastText.git"
   ]
  },
  {
   "cell_type": "code",
   "execution_count": 16,
   "metadata": {},
   "outputs": [
    {
     "name": "stdout",
     "output_type": "stream",
     "text": [
      "Collecting Cython\n",
      "\u001b[?25l  Downloading https://files.pythonhosted.org/packages/99/f9/1c93f3ef9189e53c8647b55ea60ad5f6fd4cdcb0217fc97e87e299d8528d/Cython-0.28.5-cp35-cp35m-manylinux1_x86_64.whl (3.3MB)\n",
      "\u001b[K    100% |################################| 3.3MB 9.4MB/s eta 0:00:01\n",
      "\u001b[?25hInstalling collected packages: Cython\n",
      "Successfully installed Cython-0.28.5\n"
     ]
    }
   ],
   "source": [
    "!pip3 install Cython"
   ]
  },
  {
   "cell_type": "code",
   "execution_count": 17,
   "metadata": {},
   "outputs": [
    {
     "name": "stdout",
     "output_type": "stream",
     "text": [
      "Collecting fastText\n",
      "  Using cached https://files.pythonhosted.org/packages/a4/86/ff826211bc9e28d4c371668b30b4b2c38a09127e5e73017b1c0cd52f9dfa/fasttext-0.8.3.tar.gz\n",
      "Requirement already satisfied: numpy>=1 in /usr/local/lib/python3.5/dist-packages (from fastText) (1.14.5)\n",
      "Collecting future (from fastText)\n",
      "\u001b[?25l  Downloading https://files.pythonhosted.org/packages/00/2b/8d082ddfed935f3608cc61140df6dcbf0edea1bc3ab52fb6c29ae3e81e85/future-0.16.0.tar.gz (824kB)\n",
      "\u001b[K    100% |################################| 829kB 4.9MB/s ta 0:00:011\n",
      "\u001b[?25hBuilding wheels for collected packages: fastText, future\n",
      "  Running setup.py bdist_wheel for fastText ... \u001b[?25ldone\n",
      "\u001b[?25h  Stored in directory: /root/.cache/pip/wheels/73/8e/5d/ecb50b90adaab5868ae1d8df180f31e55e85c2f055aaf2fb35\n",
      "  Running setup.py bdist_wheel for future ... \u001b[?25ldone\n",
      "\u001b[?25h  Stored in directory: /root/.cache/pip/wheels/bf/c9/a3/c538d90ef17cf7823fa51fc701a7a7a910a80f6a405bf15b1a\n",
      "Successfully built fastText future\n",
      "Installing collected packages: future, fastText\n",
      "Successfully installed fastText-0.8.3 future-0.16.0\n"
     ]
    }
   ],
   "source": [
    "!pip3 install fastText"
   ]
  },
  {
   "cell_type": "code",
   "execution_count": 13,
   "metadata": {},
   "outputs": [
    {
     "name": "stdout",
     "output_type": "stream",
     "text": [
      "c++ -pthread -std=c++0x -march=native -O3 -funroll-loops -c src/args.cc\n",
      "c++ -pthread -std=c++0x -march=native -O3 -funroll-loops -c src/dictionary.cc\n",
      "c++ -pthread -std=c++0x -march=native -O3 -funroll-loops -c src/productquantizer.cc\n",
      "c++ -pthread -std=c++0x -march=native -O3 -funroll-loops -c src/matrix.cc\n",
      "c++ -pthread -std=c++0x -march=native -O3 -funroll-loops -c src/qmatrix.cc\n",
      "c++ -pthread -std=c++0x -march=native -O3 -funroll-loops -c src/vector.cc\n",
      "c++ -pthread -std=c++0x -march=native -O3 -funroll-loops -c src/model.cc\n",
      "c++ -pthread -std=c++0x -march=native -O3 -funroll-loops -c src/utils.cc\n",
      "c++ -pthread -std=c++0x -march=native -O3 -funroll-loops -c src/fasttext.cc\n",
      "c++ -pthread -std=c++0x -march=native -O3 -funroll-loops args.o dictionary.o productquantizer.o matrix.o qmatrix.o vector.o model.o utils.o fasttext.o src/main.cc -o fasttext\n"
     ]
    }
   ],
   "source": [
    "!cd fastText;make"
   ]
  },
  {
   "cell_type": "code",
   "execution_count": 18,
   "metadata": {},
   "outputs": [],
   "source": [
    "import fastText"
   ]
  },
  {
   "cell_type": "code",
   "execution_count": 17,
   "metadata": {},
   "outputs": [],
   "source": [
    "import json\n",
    "from pathlib import Path\n",
    "import re\n",
    "import random\n",
    "\n",
    "reviews_data = Path(\"yelp_academic_dataset_review.json\")\n",
    "training_data = Path(\"fasttext_dataset_training.txt\")\n",
    "test_data = Path(\"fasttext_dataset_test.txt\")\n",
    "\n",
    "# What percent of data to save separately as test data\n",
    "percent_test_data = 0.10\n",
    "\n",
    "def strip_formatting(string):\n",
    "    string = string.lower()\n",
    "    string = re.sub(r\"([.!?,'/()])\", r\" \\1 \", string)\n",
    "    return string\n",
    "\n",
    "with reviews_data.open(encoding='utf-8') as input, \\\n",
    "     training_data.open(\"w\", encoding='utf-8') as train_output, \\\n",
    "     test_data.open(\"w\", encoding='utf-8') as test_output:\n",
    "\n",
    "    for line in input:\n",
    "        review_data = json.loads(line)\n",
    "\n",
    "        rating = review_data['stars']\n",
    "        text = review_data['text'].replace(\"\\n\", \" \")\n",
    "        text = strip_formatting(text)\n",
    "\n",
    "        fasttext_line = \"__label__{} {}\".format(rating, text)\n",
    "\n",
    "        if random.random() <= percent_test_data:\n",
    "            test_output.write(fasttext_line + \"\\n\")\n",
    "        else:\n",
    "            train_output.write(fasttext_line + \"\\n\")"
   ]
  },
  {
   "cell_type": "code",
   "execution_count": 19,
   "metadata": {},
   "outputs": [
    {
     "name": "stdout",
     "output_type": "stream",
     "text": [
      "Read 712M words\n",
      "Number of words:  1250819\n",
      "Number of labels: 6\n",
      "Progress: 100.0% words/sec/thread:  709629 lr:  0.000000 loss:  0.727190 ETA:   0h 0m loss:  0.841276 ETA:   0h 5m 729302 lr:  0.089061 loss:  0.766103 ETA:   0h 6m loss:  0.760972 ETA:   0h 5m 730858 lr:  0.086498 loss:  0.760635 ETA:   0h 5m 0.084351 loss:  0.758756 ETA:   0h 5m 0.083441 loss:  0.757843 ETA:   0h 5m loss:  0.752650 ETA:   0h 5m loss:  0.751527 ETA:   0h 5m% words/sec/thread:  749780 lr:  0.078345 loss:  0.750692 ETA:   0h 5m ETA:   0h 4m 0.071973 loss:  0.744893 ETA:   0h 4m% words/sec/thread:  751150 lr:  0.066659 loss:  0.742062 ETA:   0h 4m% words/sec/thread:  747030 lr:  0.066338 loss:  0.741659 ETA:   0h 4m 36.0% words/sec/thread:  727405 lr:  0.063984 loss:  0.739591 ETA:   0h 4m 740528 lr:  0.047981 loss:  0.727869 ETA:   0h 3m 0.045280 loss:  0.725443 ETA:   0h 3m% words/sec/thread:  726254 lr:  0.044421 loss:  0.725160 ETA:   0h 3m% words/sec/thread:  716292 lr:  0.042572 loss:  0.723872 ETA:   0h 2m% words/sec/thread:  711725 lr:  0.041281 loss:  0.723073 ETA:   0h 2m 702442 lr:  0.037704 loss:  0.722657 ETA:   0h 2m 699516 lr:  0.035414 loss:  0.722438 ETA:   0h 2m 68.6% words/sec/thread:  694930 lr:  0.031379 loss:  0.722223 ETA:   0h 2m lr:  0.025248 loss:  0.723454 ETA:   0h 1m% words/sec/thread:  685388 lr:  0.024942 loss:  0.723527 ETA:   0h 1mm 0.013312 loss:  0.725406 ETA:   0h 0m 0.005300 loss:  0.725633 ETA:   0h 0m\n"
     ]
    }
   ],
   "source": [
    "!./fastText/fasttext supervised -ianput fasttext_dataset_training.txt -output reviews_model"
   ]
  },
  {
   "cell_type": "code",
   "execution_count": 20,
   "metadata": {},
   "outputs": [
    {
     "name": "stdout",
     "output_type": "stream",
     "text": [
      "N\t599348\r\n",
      "P@1\t0.696\r\n",
      "R@1\t0.696\r\n",
      "Number of examples: 599348\r\n"
     ]
    }
   ],
   "source": [
    "!./fastText/fasttext test reviews_model.bin fasttext_dataset_test.txt"
   ]
  },
  {
   "cell_type": "code",
   "execution_count": 21,
   "metadata": {},
   "outputs": [
    {
     "name": "stdout",
     "output_type": "stream",
     "text": [
      "N\t599348\r\n",
      "P@2\t0.458\r\n",
      "R@2\t0.916\r\n",
      "Number of examples: 599348\r\n"
     ]
    }
   ],
   "source": [
    "!./fastText/fasttext test reviews_model.bin fasttext_dataset_test.txt 2"
   ]
  },
  {
   "cell_type": "code",
   "execution_count": 22,
   "metadata": {},
   "outputs": [
    {
     "name": "stdout",
     "output_type": "stream",
     "text": [
      "Read 712M words\n",
      "Number of words:  1250819\n",
      "Number of labels: 6\n",
      "Progress: 100.0% words/sec/thread:  372733 lr:  0.000000 loss:  0.651443 ETA:   0h 0m% words/sec/thread:  402684 lr:  0.096414 loss:  0.756289 ETA:   0h11m 0.692165 ETA:   0h10m 0.686644 ETA:   0h 9m loss:  0.683239 ETA:   0h 9m 0.682921 ETA:   0h 9m ETA:   0h 8m 0.675227 ETA:   0h 8m 0.675151 ETA:   0h 8m 0.674805 ETA:   0h 8m 0.670583 ETA:   0h 8m 0.668750 ETA:   0h 8m 0.668532 ETA:   0h 8m 0.667308 ETA:   0h 8m loss:  0.667259 ETA:   0h 7m loss:  0.667044 ETA:   0h 7m 0.666460 ETA:   0h 7mh 7m 39.3% words/sec/thread:  397442 lr:  0.060716 loss:  0.664984 ETA:   0h 7m ETA:   0h 7mh 7m  0h 6m ETA:   0h 6m% words/sec/thread:  390215 lr:  0.052362 loss:  0.660841 ETA:   0h 6m  0h 6m ETA:   0h 6m ETA:   0h 6m  0h 6m ETA:   0h 6m  0h 6m  0h 5mh 5m  0h 5m ETA:   0h 5m  0h 5m ETA:   0h 4m  0h 4m  0h 4m  0h 4m  0h 4m  0h 4m ETA:   0h 4m ETA:   0h 3m  0h 3m  0h 3m ETA:   0h 3mh 3m ETA:   0h 3m  0h 3m loss:  0.657930 ETA:   0h 3m ETA:   0h 3m  0h 3mh 3m ETA:   0h 2m  0h 2m ETA:   0h 2m  0h 2m 0.655489 ETA:   0h 2m ETA:   0h 2mh 1m  0h 1m 0.653395 ETA:   0h 1m  0h 1m 0.652583 ETA:   0h 0m ETA:   0h 0m\n"
     ]
    }
   ],
   "source": [
    "!./fastText/fasttext supervised -input fasttext_dataset_training.txt -output reviews_model_ngrams -wordNgrams 2"
   ]
  },
  {
   "cell_type": "code",
   "execution_count": 23,
   "metadata": {},
   "outputs": [
    {
     "name": "stdout",
     "output_type": "stream",
     "text": [
      "N\t599348\n",
      "P@1\t0.728\n",
      "R@1\t0.728\n",
      "Number of examples: 599348\n"
     ]
    }
   ],
   "source": [
    "!./fastText/fasttext test reviews_model_ngrams.bin fasttext_dataset_test.txt"
   ]
  },
  {
   "cell_type": "code",
   "execution_count": 24,
   "metadata": {},
   "outputs": [
    {
     "name": "stdout",
     "output_type": "stream",
     "text": [
      "N\t599348\r\n",
      "P@2\t0.47\r\n",
      "R@2\t0.941\r\n",
      "Number of examples: 599348\r\n"
     ]
    }
   ],
   "source": [
    "!./fastText/fasttext test reviews_model_ngrams.bin fasttext_dataset_test.txt 2"
   ]
  },
  {
   "cell_type": "code",
   "execution_count": 7,
   "metadata": {},
   "outputs": [
    {
     "name": "stdout",
     "output_type": "stream",
     "text": [
     "5 stars (100% confidence)\r\n",
     "This restaurant literally changed my life. This is the best food I've ever eaten!\r\n",
     "1 star (88% confidence)\r\n",
     "I hate this place so much. They were mean to me.\r\n",
     "3 stars (64% confidence)\r\n",
     "I don't know. It was ok, I guess. Not really sure what to say.\r\n"
     ]
    }
   ],
   "source": [
    "import fasttext\n",
    "import re\n",
    "\n",
    "def strip_formatting(string):\n",
    "    string = string.lower()\n",
    "    string = re.sub(r\"([.!?,'/()])\", r\" \\1 \", string)\n",
    "    return string\n",
    "\n",
    "# Reviews to check\n",
    "reviews = [\n",
    "    \"This restaurant literally changed my life. This is the best food I've ever eaten!\",\n",
    "    \"I hate this place so much. They were mean to me.\",\n",
    "    \"I don't know. It was ok, I guess. Not really sure what to say.\"\n",
    "]\n",
    "\n",
    "# Pre-process the text of each review so it matches the training format\n",
    "preprocessed_reviews = list(map(strip_formatting, reviews))\n",
    "\n",
    "# Load the model\n",
    "classifier = fasttext.load_model('reviews_model_ngrams.bin')\n",
    "\n",
    "# Get fastText to classify each review with the model\n",
    "labels, probabilities = classifier.predict(preprocessed_reviews, 1)\n",
    "\n",
    "# Print the results\n",
    "for review, label, probability in zip(reviews, labels, probabilities):\n",
    "    stars = int(label[0][-1])\n",
    "\n",
    "    print(\"{} ({}% confidence)\".format(\"☆\" * stars, int(probability[0] * 100)))\n",
    "    print(review)\n",
    "    print()"
   ]
  },
  {
   "cell_type": "code",
   "execution_count": 45,
   "metadata": {},
   "outputs": [
    {
     "name": "stdout",
     "output_type": "stream",
     "text": [
      "__init__.py  __pycache__  fasttext.cpython-35m-x86_64-linux-gnu.so  model.py\r\n"
     ]
    }
   ],
   "source": [
    "!ls /usr/local/lib/python3.5/dist-packages/fasttext"
   ]
  },
  {
   "cell_type": "code",
   "execution_count": null,
   "metadata": {},
   "outputs": [],
   "source": []
  }
 ],
 "metadata": {
  "kernelspec": {
   "display_name": "Python 3",
   "language": "python",
   "name": "python3"
  },
  "language_info": {
   "codemirror_mode": {
    "name": "ipython",
    "version": 3
   },
   "file_extension": ".py",
   "mimetype": "text/x-python",
   "name": "python",
   "nbconvert_exporter": "python",
   "pygments_lexer": "ipython3",
   "version": "3.5.2"
  }
 },
 "nbformat": 4,
 "nbformat_minor": 2
}
