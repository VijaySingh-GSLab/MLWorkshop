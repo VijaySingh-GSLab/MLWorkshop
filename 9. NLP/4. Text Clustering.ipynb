{
  "nbformat": 4,
  "nbformat_minor": 0,
  "metadata": {
    "colab": {
      "name": "Text Clustering.ipynb",
      "provenance": []
    },
    "kernelspec": {
      "name": "python3",
      "display_name": "Python 3"
    }
  },
  "cells": [
    {
      "cell_type": "markdown",
      "metadata": {
        "id": "XkIdRR7mmKS2",
        "colab_type": "text"
      },
      "source": [
        "Text Clustering"
      ]
    },
    {
      "cell_type": "code",
      "metadata": {
        "id": "wO_ySQccmMkh",
        "colab_type": "code",
        "colab": {}
      },
      "source": [
        "import pandas as pd\n",
        "import numpy as np\n",
        "from sklearn.cluster import MiniBatchKMeans\n",
        "from sklearn.feature_extraction.text import TfidfVectorizer\n",
        "from sklearn.decomposition import PCA\n",
        "import matplotlib.pyplot as plt"
      ],
      "execution_count": 1,
      "outputs": []
    },
    {
      "cell_type": "code",
      "metadata": {
        "id": "C8mDP8yLmRCE",
        "colab_type": "code",
        "colab": {}
      },
      "source": [
        "df = pd.read_csv('https://raw.githubusercontent.com/sameermahajan/MLWorkshop/master/3.%20Clustering/people_wiki.csv')"
      ],
      "execution_count": 2,
      "outputs": []
    },
    {
      "cell_type": "code",
      "metadata": {
        "id": "rQwWdQe4nUTY",
        "colab_type": "code",
        "colab": {}
      },
      "source": [
        "df = df.head(100)"
      ],
      "execution_count": 3,
      "outputs": []
    },
    {
      "cell_type": "markdown",
      "metadata": {
        "id": "hskFEzmfn11l",
        "colab_type": "text"
      },
      "source": [
        "Feature Extraction"
      ]
    },
    {
      "cell_type": "code",
      "metadata": {
        "id": "1yY5tflHnYyO",
        "colab_type": "code",
        "colab": {}
      },
      "source": [
        "vec = TfidfVectorizer(stop_words=\"english\")\n",
        "vec.fit(df.text.values)\n",
        "features = vec.transform(df.text.values)"
      ],
      "execution_count": 4,
      "outputs": []
    },
    {
      "cell_type": "markdown",
      "metadata": {
        "id": "Mx4JowmpoK0i",
        "colab_type": "text"
      },
      "source": [
        "Model Training"
      ]
    },
    {
      "cell_type": "code",
      "metadata": {
        "id": "5f52NclIoBq6",
        "colab_type": "code",
        "colab": {
          "base_uri": "https://localhost:8080/",
          "height": 90
        },
        "outputId": "0e0bca3c-51ac-4d93-e6e1-bc1ac7d570ba"
      },
      "source": [
        "cls = MiniBatchKMeans(n_clusters=5, random_state=0)\n",
        "cls.fit(features)"
      ],
      "execution_count": 5,
      "outputs": [
        {
          "output_type": "execute_result",
          "data": {
            "text/plain": [
              "MiniBatchKMeans(batch_size=100, compute_labels=True, init='k-means++',\n",
              "                init_size=None, max_iter=100, max_no_improvement=10,\n",
              "                n_clusters=5, n_init=3, random_state=0, reassignment_ratio=0.01,\n",
              "                tol=0.0, verbose=0)"
            ]
          },
          "metadata": {
            "tags": []
          },
          "execution_count": 5
        }
      ]
    },
    {
      "cell_type": "markdown",
      "metadata": {
        "id": "rzcSuLmcohuG",
        "colab_type": "text"
      },
      "source": [
        "Predict cluster labels for new dataset"
      ]
    },
    {
      "cell_type": "code",
      "metadata": {
        "id": "LGfvYZPaoSDi",
        "colab_type": "code",
        "colab": {
          "base_uri": "https://localhost:8080/",
          "height": 109
        },
        "outputId": "b6136901-f13a-4404-8181-024f4cf9ace9"
      },
      "source": [
        "cls.predict(features)"
      ],
      "execution_count": 6,
      "outputs": [
        {
          "output_type": "execute_result",
          "data": {
            "text/plain": [
              "array([1, 4, 4, 4, 0, 4, 4, 4, 4, 3, 4, 3, 2, 4, 3, 4, 4, 1, 4, 3, 2, 1,\n",
              "       1, 0, 4, 1, 4, 4, 1, 0, 4, 4, 4, 4, 4, 4, 4, 4, 4, 2, 4, 1, 3, 4,\n",
              "       4, 4, 4, 4, 1, 1, 4, 4, 3, 0, 3, 4, 4, 4, 0, 4, 4, 4, 4, 1, 2, 0,\n",
              "       4, 4, 4, 4, 3, 4, 4, 4, 4, 1, 4, 3, 4, 3, 4, 4, 3, 3, 4, 4, 4, 3,\n",
              "       4, 4, 4, 4, 1, 4, 4, 1, 4, 4, 3, 1], dtype=int32)"
            ]
          },
          "metadata": {
            "tags": []
          },
          "execution_count": 6
        }
      ]
    },
    {
      "cell_type": "code",
      "metadata": {
        "id": "mC1VfHmYomkr",
        "colab_type": "code",
        "colab": {
          "base_uri": "https://localhost:8080/",
          "height": 109
        },
        "outputId": "32327855-69c1-4ae0-f683-f4d498ecaa37"
      },
      "source": [
        "cls.labels_"
      ],
      "execution_count": 7,
      "outputs": [
        {
          "output_type": "execute_result",
          "data": {
            "text/plain": [
              "array([1, 4, 4, 4, 0, 4, 4, 4, 4, 3, 4, 3, 2, 4, 3, 4, 4, 1, 4, 3, 2, 1,\n",
              "       1, 0, 4, 1, 4, 4, 1, 0, 4, 4, 4, 4, 4, 4, 4, 4, 4, 2, 4, 1, 3, 4,\n",
              "       4, 4, 4, 4, 1, 1, 4, 4, 3, 0, 3, 4, 4, 4, 0, 4, 4, 4, 4, 1, 2, 0,\n",
              "       4, 4, 4, 4, 3, 4, 4, 4, 4, 1, 4, 3, 4, 3, 4, 4, 3, 3, 4, 4, 4, 3,\n",
              "       4, 4, 4, 4, 1, 4, 4, 1, 4, 4, 3, 1], dtype=int32)"
            ]
          },
          "metadata": {
            "tags": []
          },
          "execution_count": 7
        }
      ]
    },
    {
      "cell_type": "code",
      "metadata": {
        "id": "IkcbIBMno49Q",
        "colab_type": "code",
        "colab": {}
      },
      "source": [
        "a = cls.labels_"
      ],
      "execution_count": 8,
      "outputs": []
    },
    {
      "cell_type": "code",
      "metadata": {
        "id": "SgLw-tfwpDEN",
        "colab_type": "code",
        "colab": {
          "base_uri": "https://localhost:8080/",
          "height": 35
        },
        "outputId": "00895401-d4a9-40cd-e542-3e1a9b9a96d1"
      },
      "source": [
        "len(a)"
      ],
      "execution_count": 9,
      "outputs": [
        {
          "output_type": "execute_result",
          "data": {
            "text/plain": [
              "100"
            ]
          },
          "metadata": {
            "tags": []
          },
          "execution_count": 9
        }
      ]
    },
    {
      "cell_type": "code",
      "metadata": {
        "id": "P0Z-5uWapGwO",
        "colab_type": "code",
        "colab": {
          "base_uri": "https://localhost:8080/",
          "height": 90
        },
        "outputId": "eacb93ad-dad4-4877-98df-57979845d8de"
      },
      "source": [
        "df.count()"
      ],
      "execution_count": 10,
      "outputs": [
        {
          "output_type": "execute_result",
          "data": {
            "text/plain": [
              "URI     100\n",
              "name    100\n",
              "text    100\n",
              "dtype: int64"
            ]
          },
          "metadata": {
            "tags": []
          },
          "execution_count": 10
        }
      ]
    },
    {
      "cell_type": "markdown",
      "metadata": {
        "id": "-BLOvzeVw8yt",
        "colab_type": "text"
      },
      "source": [
        "Visualization"
      ]
    },
    {
      "cell_type": "code",
      "metadata": {
        "id": "ZFaCUzFqpJpC",
        "colab_type": "code",
        "colab": {}
      },
      "source": [
        "# reduce the features to 2D\n",
        "pca = PCA(n_components=2, random_state=0)\n",
        "reduced_features = pca.fit_transform(features.toarray())\n",
        "\n",
        "# reduce the cluster centers to 2D\n",
        "reduced_cluster_centers = pca.transform(cls.cluster_centers_)"
      ],
      "execution_count": 11,
      "outputs": []
    },
    {
      "cell_type": "code",
      "metadata": {
        "id": "vdCT5GLHxDWv",
        "colab_type": "code",
        "colab": {
          "base_uri": "https://localhost:8080/",
          "height": 286
        },
        "outputId": "9eb447ec-8492-4945-8462-278f5b5e2709"
      },
      "source": [
        "plt.scatter(reduced_features[:,0], reduced_features[:,1], c=cls.predict(features))\n",
        "plt.scatter(reduced_cluster_centers[:, 0], reduced_cluster_centers[:,1], marker='x', s=150, c='b')"
      ],
      "execution_count": 12,
      "outputs": [
        {
          "output_type": "execute_result",
          "data": {
            "text/plain": [
              "<matplotlib.collections.PathCollection at 0x7fa40772ea20>"
            ]
          },
          "metadata": {
            "tags": []
          },
          "execution_count": 12
        },
        {
          "output_type": "display_data",
          "data": {
            "image/png": "[encoded data removed]",
            "text/plain": [
              "<Figure size 432x288 with 1 Axes>"
            ]
          },
          "metadata": {
            "tags": [],
            "needs_background": "light"
          }
        }
      ]
    }
  ]
}